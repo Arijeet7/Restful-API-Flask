{
  "nbformat": 4,
  "nbformat_minor": 0,
  "metadata": {
    "colab": {
      "provenance": []
    },
    "kernelspec": {
      "name": "python3",
      "display_name": "Python 3"
    },
    "language_info": {
      "name": "python"
    }
  },
  "cells": [
    {
      "cell_type": "markdown",
      "source": [
        "# Restful API & Flask\n",
        "# Theory"
      ],
      "metadata": {
        "id": "QSwEgjKF-E48"
      }
    },
    {
      "cell_type": "markdown",
      "source": [
        "1. **What is a RESTful API?**\n",
        "\n",
        "**Answer**:- A RESTful API is a web service that uses HTTP methods (GET, POST, PUT, DELETE) to interact with resources identified by URLs, and follows the principles of REST architecture, such as statelessness and structured data exchange (usually in JSON format).\n",
        "\n",
        "2.**Explain the concept of API specification?**\n",
        "\n",
        "**Answer**:- An API specification is a detailed description of how an API works. It defines:\n",
        "\n",
        "* Available endpoints (URLs)\n",
        "\n",
        "* HTTP methods (GET, POST, etc.)\n",
        "\n",
        "* Request parameters (query, path, body)\n",
        "\n",
        "* Response formats (usually JSON or XML)\n",
        "\n",
        "* Authentication methods\n",
        "\n",
        "* Error codes and messages\n",
        "\n",
        "It serves as a contract between the API provider and the consumer, ensuring both sides know how to interact with the API correctly.\n",
        "\n",
        "3. **What is Flask, and why is it popular for building APIs?**\n",
        "\n",
        "**Answer**:- Flask is a lightweight Python web framework used to build web applications and APIs. It is popular for building APIs because it is simple, flexible, easy to learn, and allows quick development with minimal setup.\n",
        "\n",
        "4. **What is routing in Flask?**\n",
        "\n",
        "**Answer**:- Routing in Flask is the process of mapping URLs to functions in your code. These functions are called view functions and define what should happen when a specific URL is accessed."
      ],
      "metadata": {
        "id": "jBNH90SL-fYx"
      }
    },
    {
      "cell_type": "markdown",
      "source": [
        "5. **How do you create a simple Flask application?**\n",
        "\n",
        "**Answer**:- Steps to create a simple flask application:\n",
        "\n",
        "* We need to install Flask as-  pip install flask\n",
        "\n",
        "* We need to create a python file with the following code-\n",
        "\n",
        "  from flask import Flask\n",
        "\n",
        "  app = Flask(__name__)\n",
        "\n",
        "  @app.route('/')\n",
        "\n",
        "  def home():\n",
        "\n",
        "     return \"Hello, Flask!\"\n",
        "\n",
        "  if __name__ == '__main__':\n",
        "\n",
        "     app.run()\n",
        "\n",
        "* After creating the file then we need to run the file - python app.py\n",
        "\n",
        "* And at last we have to visit http://localhost:5000 in the web browser and we will get the result as - Hello, Flask!\n",
        "\n",
        "\n",
        "6. **What are HTTP methods used in RESTful APIs?**\n",
        "\n",
        "**Answer**:- The main HTTP methods used in RESTful APIs are:\n",
        "\n",
        "* GET - Retrieve data from the server\n",
        "\n",
        "* POST - Create a new resource\n",
        "\n",
        "* PUT - Update or replace an existing resource\n",
        "\n",
        "* PATCH - Partially update a resource\n",
        "\n",
        "* DELETE - Remove a resource\n",
        "\n",
        "7. **What is the purpose of the @app.route() decorator in Flask?**\n",
        "\n",
        "**Answer**:- The @app.route() decorator in Flask defines a URL route and maps it to a Python function that handles requests to that URL. It tells Flask what function to run when a specific URL is accessed.\n",
        "\n",
        "8. **What is the difference between GET and POST HTTP methods?**\n",
        "\n",
        "**Answer**:- The difference between GET and POST HTTP methods is:\n",
        "\n",
        "GET:\n",
        "\n",
        "* Used to retrieve data from the server.\n",
        "\n",
        "* Requests should be safe and idempotent (do not change server state).\n",
        "\n",
        "* Data is sent via URL query parameters.\n",
        "\n",
        "* Example: Loading a webpage or fetching a list of users.\n",
        "\n",
        "POST:\n",
        "\n",
        "* Used to send data to the server to create or update a resource.\n",
        "\n",
        "* Not idempotent (repeated requests can cause different effects).\n",
        "\n",
        "* Data is sent in the request body (e.g., form data, JSON).\n",
        "\n",
        "* Example: Submitting a form or uploading data."
      ],
      "metadata": {
        "id": "r1P9-wTVFKIF"
      }
    },
    {
      "cell_type": "markdown",
      "source": [
        "9. **How do you handle errors in Flask APIs?**\n",
        "\n",
        "**Answer**:- By using error handlers with @app.errorhandler() decorators or try-except blocks and returning appropriate HTTP status codes and messages.\n",
        "\n",
        "10. **How do you connect Flask to a SQL database?**\n",
        "\n",
        "**Answer**:- Typically by using an ORM like Flask-SQLAlchemy or by manually connecting with database drivers.\n",
        "\n",
        "11. **What is the role of Flask-SQLAlchemy?**\n",
        "\n",
        "**Answer**:- Flask-SQLAlchemy integrates the SQLAlchemy ORM with Flask, offering:\n",
        "\n",
        "* An easy-to-use ORM for interacting with databases using Python classes instead of raw SQL.\n",
        "\n",
        "* Automatic session management and connection handling.\n",
        "\n",
        "* Simplified configuration and migration support.\n",
        "\n",
        "* Cleaner and more maintainable database code.\n",
        "\n",
        "12. **What are Flask blueprints, and how are they useful?**\n",
        "\n",
        "**Answer**:- Blueprints allow you to organize your Flask application into smaller, modular components. This is especially useful for large apps.\n",
        "\n",
        "* Each blueprint can define routes, error handlers, and static files separately.\n",
        "\n",
        "* Blueprints can be registered on the main Flask app, keeping code modular and reusable.\n",
        "\n",
        "* Helps avoid cluttered files and supports team development."
      ],
      "metadata": {
        "id": "_MOU8Nl-LaHH"
      }
    },
    {
      "cell_type": "markdown",
      "source": [
        "13. **What is the purpose of Flask's request object?**\n",
        "\n",
        "**Answer**:- The request object provides access to incoming HTTP request data, such as:\n",
        "\n",
        "* URL parameters (request.args)\n",
        "\n",
        "* Form data (request.form)\n",
        "\n",
        "* JSON payload (request.json)\n",
        "\n",
        "* Headers (request.headers)\n",
        "\n",
        "* Cookies (request.cookies)\n",
        "\n",
        "* HTTP method (request.method)\n",
        "\n",
        "It allows for the reading of data sent by clients, enabling it to be processed in the application's routes.\n",
        "\n",
        "14. **How do you create a RESTful API endpoint using Flask?**\n",
        "\n",
        "**Answer**:-\n",
        "\n",
        "* Define a route using @app.route()\n",
        "\n",
        "* Specify allowed HTTP methods (methods=['GET', 'POST'])\n",
        "\n",
        "* Access request data via request object\n",
        "\n",
        "* Return data as JSON using jsonify()\n",
        "\n",
        "15. **What is the purpose of Flask's jsonify() function?**\n",
        "\n",
        "**Answer**:- It converts Python dictionaries or lists into a JSON-formatted response with the correct content-type headers.\n",
        "\n",
        "16. **Explain Flask's url_for() function?**\n",
        "\n",
        "**Answer**:- url_for() dynamically generates URLs for a given view function name, rather than hardcoding URLs. It's useful for:\n",
        "\n",
        "* Avoiding broken links if routes change.\n",
        "\n",
        "* Creating URLs with variable parts or query parameters.\n",
        "\n",
        "* Generating URLs in templates or redirects."
      ],
      "metadata": {
        "id": "g9ZbWMu5Nh1v"
      }
    },
    {
      "cell_type": "markdown",
      "source": [
        "17. **How does Flask handle static files (CSS, JavaScript, etc.)?**\n",
        "\n",
        "**Answer**:- By default, Flask serves files placed in the /static folder, accessible via /static/filename.\n",
        "\n",
        "18. **What is an API specification, and how does it help in building a Flask API?**\n",
        "\n",
        "**Answer**:- An API specification is a formal document that describes the endpoints, request/response formats, authentication, and error handling of an API. It helps by:\n",
        "\n",
        "* Providing a clear contract for developers.\n",
        "\n",
        "* Making development and testing easier.\n",
        "\n",
        "* Enabling automatic documentation generation.\n",
        "\n",
        "* Facilitating client SDK generation.\n",
        "\n",
        "19. **What are HTTP status codes, and why are they important in a Flask API?**\n",
        "\n",
        "**Answer**:- They indicate the result of an HTTP request (e.g., 200 OK, 404 Not Found), helping clients understand if the request succeeded or failed.\n",
        "\n",
        "20. **How do you handle POST requests in Flask?**\n",
        "\n",
        "**Answer**:- Use @app.route() with methods=['POST'] and access the request data via request.form or request.json."
      ],
      "metadata": {
        "id": "SVbTQE6yQINu"
      }
    },
    {
      "cell_type": "markdown",
      "source": [
        "21. **How would you secure a Flask API?**\n",
        "\n",
        "**Answer**:-  \n",
        "* Use authentication (e.g., JWT tokens, OAuth) to verify users.\n",
        "\n",
        "* Use HTTPS to encrypt data in transit.\n",
        "\n",
        "* Validate and sanitize all inputs to prevent injection attacks.\n",
        "\n",
        "* Implement rate limiting to prevent abuse.\n",
        "\n",
        "* Use secure headers (CORS, Content Security Policy).\n",
        "\n",
        "* Keep dependencies updated.\n",
        "\n",
        "22. **What is the significance of the Flask-RESTful extension?**\n",
        "\n",
        "**Answer**:- Flask-RESTful adds utilities to Flask that simplify REST API development, such as:\n",
        "\n",
        "* Class-based resource routing.\n",
        "\n",
        "* Easy request parsing and validation.\n",
        "\n",
        "* Automatic response formatting.\n",
        "\n",
        "* Integration with Flask's app.\n",
        "\n",
        "It makes APIs more structured and easier to maintain.\n",
        "\n",
        "23. **What is the role of Flask’s session object?**\n",
        "\n",
        "**Answer**:- The session object stores data specific to a user session between requests. It usually stores small amounts of data in cookies, such as login status or preferences, securely signed to prevent tampering."
      ],
      "metadata": {
        "id": "MsZcwcp_RtbC"
      }
    },
    {
      "cell_type": "markdown",
      "source": [
        "# Practical"
      ],
      "metadata": {
        "id": "L9xoq342SzCK"
      }
    },
    {
      "cell_type": "code",
      "source": [
        "#1. How do you create a basic Flask application?\n",
        "from flask import Flask\n",
        "\n",
        "app = Flask(__name__)\n",
        "\n",
        "@app.route('/')\n",
        "def home():\n",
        "    return 'Hello, Flask!'\n",
        "\n",
        "if __name__ == '__main__':\n",
        "    app.run(debug=True)\n"
      ],
      "metadata": {
        "colab": {
          "base_uri": "https://localhost:8080/"
        },
        "id": "9TRVot4cJxDw",
        "outputId": "c8cda463-07b6-45ca-a83f-59e83904bed3"
      },
      "execution_count": 9,
      "outputs": [
        {
          "output_type": "stream",
          "name": "stdout",
          "text": [
            " * Serving Flask app '__main__'\n",
            " * Debug mode: on\n"
          ]
        },
        {
          "output_type": "stream",
          "name": "stderr",
          "text": [
            "INFO:werkzeug:\u001b[31m\u001b[1mWARNING: This is a development server. Do not use it in a production deployment. Use a production WSGI server instead.\u001b[0m\n",
            " * Running on http://127.0.0.1:5000\n",
            "INFO:werkzeug:\u001b[33mPress CTRL+C to quit\u001b[0m\n",
            "INFO:werkzeug: * Restarting with watchdog (inotify)\n"
          ]
        }
      ]
    },
    {
      "cell_type": "code",
      "source": [
        "#2. How do you serve static files like images or CSS in Flask?\n",
        "from flask import Flask, render_template\n",
        "\n",
        "app = Flask(__name__)\n",
        "\n",
        "@app.route('/')\n",
        "def home():\n",
        "    return render_template('main.html')\n",
        "\n",
        "if __name__ == '__main__':\n",
        "    app.run(debug=True)"
      ],
      "metadata": {
        "colab": {
          "base_uri": "https://localhost:8080/"
        },
        "id": "Ww98PQ01KDMA",
        "outputId": "32c7588f-164e-4348-f7c0-93e774d5741b"
      },
      "execution_count": 12,
      "outputs": [
        {
          "output_type": "stream",
          "name": "stdout",
          "text": [
            " * Serving Flask app '__main__'\n",
            " * Debug mode: on\n"
          ]
        },
        {
          "output_type": "stream",
          "name": "stderr",
          "text": [
            "INFO:werkzeug:\u001b[31m\u001b[1mWARNING: This is a development server. Do not use it in a production deployment. Use a production WSGI server instead.\u001b[0m\n",
            " * Running on http://127.0.0.1:5000\n",
            "INFO:werkzeug:\u001b[33mPress CTRL+C to quit\u001b[0m\n",
            "INFO:werkzeug: * Restarting with watchdog (inotify)\n"
          ]
        }
      ]
    },
    {
      "cell_type": "code",
      "source": [
        "#3. How do you define different routes with different HTTP methods in Flask?\n",
        "\n",
        "from flask import Flask, request\n",
        "\n",
        "app = Flask(__name__)\n",
        "\n",
        "@app.route('/')\n",
        "def home():\n",
        "    return 'Home Page - GET only'\n",
        "\n",
        "@app.route('/submit', methods=['GET', 'POST'])\n",
        "def submit():\n",
        "    if request.method == 'POST':\n",
        "        return 'Data submitted using POST!'\n",
        "    else:\n",
        "        return 'Submit form using GET!'\n",
        "\n",
        "if __name__ == '__main__':\n",
        "    app.run(debug=True)\n"
      ],
      "metadata": {
        "colab": {
          "base_uri": "https://localhost:8080/"
        },
        "id": "NdUxEhtlKf6x",
        "outputId": "60ddea1c-1686-4334-f2cf-42e1441c6a36"
      },
      "execution_count": 13,
      "outputs": [
        {
          "output_type": "stream",
          "name": "stdout",
          "text": [
            " * Serving Flask app '__main__'\n",
            " * Debug mode: on\n"
          ]
        },
        {
          "output_type": "stream",
          "name": "stderr",
          "text": [
            "INFO:werkzeug:\u001b[31m\u001b[1mWARNING: This is a development server. Do not use it in a production deployment. Use a production WSGI server instead.\u001b[0m\n",
            " * Running on http://127.0.0.1:5000\n",
            "INFO:werkzeug:\u001b[33mPress CTRL+C to quit\u001b[0m\n",
            "INFO:werkzeug: * Restarting with watchdog (inotify)\n"
          ]
        }
      ]
    },
    {
      "cell_type": "code",
      "source": [
        "#4. How do you render HTML templates in Flask?\n",
        "from flask import Flask, render_template\n",
        "\n",
        "app = Flask(__name__)\n",
        "\n",
        "@app.route('/')\n",
        "def home():\n",
        "    return render_template('index.html')\n",
        "\n",
        "if __name__ == '__main__':\n",
        "    app.run(debug=True)"
      ],
      "metadata": {
        "colab": {
          "base_uri": "https://localhost:8080/"
        },
        "id": "S0Eg9_8VKpvd",
        "outputId": "fa20f6b2-388e-4a73-e9a4-9630a83f52a8"
      },
      "execution_count": 14,
      "outputs": [
        {
          "output_type": "stream",
          "name": "stdout",
          "text": [
            " * Serving Flask app '__main__'\n",
            " * Debug mode: on\n"
          ]
        },
        {
          "output_type": "stream",
          "name": "stderr",
          "text": [
            "INFO:werkzeug:\u001b[31m\u001b[1mWARNING: This is a development server. Do not use it in a production deployment. Use a production WSGI server instead.\u001b[0m\n",
            " * Running on http://127.0.0.1:5000\n",
            "INFO:werkzeug:\u001b[33mPress CTRL+C to quit\u001b[0m\n",
            "INFO:werkzeug: * Restarting with watchdog (inotify)\n"
          ]
        }
      ]
    },
    {
      "cell_type": "code",
      "source": [
        "#5. How can you generate URLs for routes in Flask using url_for?\n",
        "from flask import Flask, url_for\n",
        "\n",
        "app = Flask(__name__)\n",
        "\n",
        "@app.route('/')\n",
        "def home():\n",
        "    return f\"Go to the about page: {url_for('about')}\"\n",
        "\n",
        "@app.route('/about')\n",
        "def about():\n",
        "    return \"This is the About Page\"\n",
        "\n",
        "if __name__ == '__main__':\n",
        "    app.run(debug=True)"
      ],
      "metadata": {
        "colab": {
          "base_uri": "https://localhost:8080/"
        },
        "id": "tLcdk52WKyTW",
        "outputId": "6e2af0c5-ee17-4900-ce37-61767703b3b9"
      },
      "execution_count": 15,
      "outputs": [
        {
          "output_type": "stream",
          "name": "stdout",
          "text": [
            " * Serving Flask app '__main__'\n",
            " * Debug mode: on\n"
          ]
        },
        {
          "output_type": "stream",
          "name": "stderr",
          "text": [
            "INFO:werkzeug:\u001b[31m\u001b[1mWARNING: This is a development server. Do not use it in a production deployment. Use a production WSGI server instead.\u001b[0m\n",
            " * Running on http://127.0.0.1:5000\n",
            "INFO:werkzeug:\u001b[33mPress CTRL+C to quit\u001b[0m\n",
            "INFO:werkzeug: * Restarting with watchdog (inotify)\n"
          ]
        }
      ]
    },
    {
      "cell_type": "code",
      "source": [
        "#6. How do you handle forms in Flask?\n",
        "\n",
        "from flask import Flask, request, render_template\n",
        "\n",
        "app = Flask(__name__)\n",
        "\n",
        "@app.route('/', methods=['GET', 'POST'])\n",
        "def form_example():\n",
        "    if request.method == 'POST':\n",
        "        name = request.form['name']\n",
        "        return f'Hello, {name}!'\n",
        "    return render_template('form.html')\n",
        "\n",
        "if __name__ == '__main__':\n",
        "    app.run(debug=True)"
      ],
      "metadata": {
        "colab": {
          "base_uri": "https://localhost:8080/"
        },
        "id": "NrO_F0doLBui",
        "outputId": "3ea95102-1cf8-4ec3-88cf-a2733951475f"
      },
      "execution_count": 16,
      "outputs": [
        {
          "output_type": "stream",
          "name": "stdout",
          "text": [
            " * Serving Flask app '__main__'\n",
            " * Debug mode: on\n"
          ]
        },
        {
          "output_type": "stream",
          "name": "stderr",
          "text": [
            "INFO:werkzeug:\u001b[31m\u001b[1mWARNING: This is a development server. Do not use it in a production deployment. Use a production WSGI server instead.\u001b[0m\n",
            " * Running on http://127.0.0.1:5000\n",
            "INFO:werkzeug:\u001b[33mPress CTRL+C to quit\u001b[0m\n",
            "INFO:werkzeug: * Restarting with watchdog (inotify)\n"
          ]
        }
      ]
    },
    {
      "cell_type": "code",
      "source": [
        "#7. How can you validate form data in Flask?\n",
        "from flask import Flask, request, render_template_string\n",
        "\n",
        "app = Flask(__name__)\n",
        "\n",
        "@app.route('/', methods=['GET', 'POST'])\n",
        "def form_example():\n",
        "    error = ''\n",
        "    if request.method == 'POST':\n",
        "        name = request.form.get('name')\n",
        "        if not name:\n",
        "            error = 'Name is required!'\n",
        "        else:\n",
        "            return f'Hello, {name}!'\n",
        "\n",
        "    return render_template_string('''\n",
        "\n",
        "            Name:\n",
        "\n",
        "            {{ error }}\n",
        "\n",
        "    ''', error=error)\n",
        "\n",
        "if __name__ == '__main__':\n",
        "    app.run(debug=True)"
      ],
      "metadata": {
        "colab": {
          "base_uri": "https://localhost:8080/"
        },
        "id": "Q3FSqbg9LL5O",
        "outputId": "39c8bec1-49b4-4371-f830-5a9da47c48ac"
      },
      "execution_count": 17,
      "outputs": [
        {
          "output_type": "stream",
          "name": "stdout",
          "text": [
            " * Serving Flask app '__main__'\n",
            " * Debug mode: on\n"
          ]
        },
        {
          "output_type": "stream",
          "name": "stderr",
          "text": [
            "INFO:werkzeug:\u001b[31m\u001b[1mWARNING: This is a development server. Do not use it in a production deployment. Use a production WSGI server instead.\u001b[0m\n",
            " * Running on http://127.0.0.1:5000\n",
            "INFO:werkzeug:\u001b[33mPress CTRL+C to quit\u001b[0m\n",
            "INFO:werkzeug: * Restarting with watchdog (inotify)\n"
          ]
        }
      ]
    },
    {
      "cell_type": "code",
      "source": [
        "#8. How do you manage sessions in Flask?\n",
        "from flask import Flask, session, redirect, url_for, request\n",
        "\n",
        "app = Flask(__name__)\n",
        "app.secret_key = 'your_secret_key'  # Required for using sessions\n",
        "\n",
        "@app.route('/login', methods=['GET', 'POST'])\n",
        "def login():\n",
        "    if request.method == 'POST':\n",
        "        session['username'] = request.form['username']\n",
        "        return redirect(url_for('profile'))\n",
        "    return '''\n",
        "           <form method=\"post\">\n",
        "               <p><input type=\"text\" name=\"username\">\n",
        "               <p><input type=\"submit\" value=\"Login\">\n",
        "           </form>\n",
        "           '''\n",
        "\n",
        "@app.route('/profile')\n",
        "def profile():\n",
        "    if 'username' in session:\n",
        "        return f\"Welcome, {session['username']}!\"\n",
        "    return 'You are not logged in.'\n",
        "\n",
        "@app.route('/logout')\n",
        "def logout():\n",
        "    session.pop('username', None)  # Removes 'username' from session\n",
        "    return 'Logged out.'\n",
        "\n",
        "if __name__ == '__main__':\n",
        "    app.run(debug=True)\n"
      ],
      "metadata": {
        "colab": {
          "base_uri": "https://localhost:8080/"
        },
        "id": "k35wR94uLZDQ",
        "outputId": "a9abc513-738c-4802-eae5-f45ee44b81c8"
      },
      "execution_count": 20,
      "outputs": [
        {
          "output_type": "stream",
          "name": "stdout",
          "text": [
            " * Serving Flask app '__main__'\n",
            " * Debug mode: on\n"
          ]
        },
        {
          "output_type": "stream",
          "name": "stderr",
          "text": [
            "INFO:werkzeug:\u001b[31m\u001b[1mWARNING: This is a development server. Do not use it in a production deployment. Use a production WSGI server instead.\u001b[0m\n",
            " * Running on http://127.0.0.1:5000\n",
            "INFO:werkzeug:\u001b[33mPress CTRL+C to quit\u001b[0m\n",
            "INFO:werkzeug: * Restarting with watchdog (inotify)\n"
          ]
        }
      ]
    },
    {
      "cell_type": "code",
      "source": [
        "#9. How do you redirect to a different route in Flask?\n",
        "from flask import Flask, redirect, url_for\n",
        "\n",
        "app = Flask(__name__)\n",
        "\n",
        "@app.route('/')\n",
        "def home():\n",
        "    return 'Home Page'\n",
        "\n",
        "@app.route('/about')\n",
        "def about():\n",
        "    return 'About Page'\n",
        "\n",
        "@app.route('/redirect_to_about')\n",
        "def redirect_to_about():\n",
        "    return redirect(url_for('about'))\n",
        "\n",
        "if __name__ == '__main__':\n",
        "    app.run(debug=True)"
      ],
      "metadata": {
        "colab": {
          "base_uri": "https://localhost:8080/"
        },
        "id": "4kebtfbnMpfY",
        "outputId": "374b0c8e-7933-454b-9e9d-f1bc868d7a8b"
      },
      "execution_count": 21,
      "outputs": [
        {
          "output_type": "stream",
          "name": "stdout",
          "text": [
            " * Serving Flask app '__main__'\n",
            " * Debug mode: on\n"
          ]
        },
        {
          "output_type": "stream",
          "name": "stderr",
          "text": [
            "INFO:werkzeug:\u001b[31m\u001b[1mWARNING: This is a development server. Do not use it in a production deployment. Use a production WSGI server instead.\u001b[0m\n",
            " * Running on http://127.0.0.1:5000\n",
            "INFO:werkzeug:\u001b[33mPress CTRL+C to quit\u001b[0m\n",
            "INFO:werkzeug: * Restarting with watchdog (inotify)\n"
          ]
        }
      ]
    },
    {
      "cell_type": "code",
      "source": [
        "#10. How do you handle errors in Flask (e.g., 404)?\n",
        "from flask import Flask, render_template, abort\n",
        "\n",
        "app = Flask(__name__)\n",
        "\n",
        "@app.route('/')\n",
        "def home():\n",
        "    return 'Home Page'\n",
        "\n",
        "@app.route('/about')\n",
        "def about():\n",
        "    return 'About Page'\n",
        "\n",
        "@app.route('/error_page')\n",
        "def error_page():\n",
        "    abort(404)\n",
        "    return 'This should not be reached'\n",
        "\n",
        "if __name__ == '__main__':\n",
        "    app.run(debug=True)"
      ],
      "metadata": {
        "colab": {
          "base_uri": "https://localhost:8080/"
        },
        "id": "AtkhbGC-NEZ7",
        "outputId": "b0d103e2-4c54-4aa4-c55d-1f419c42e98a"
      },
      "execution_count": 22,
      "outputs": [
        {
          "output_type": "stream",
          "name": "stdout",
          "text": [
            " * Serving Flask app '__main__'\n",
            " * Debug mode: on\n"
          ]
        },
        {
          "output_type": "stream",
          "name": "stderr",
          "text": [
            "INFO:werkzeug:\u001b[31m\u001b[1mWARNING: This is a development server. Do not use it in a production deployment. Use a production WSGI server instead.\u001b[0m\n",
            " * Running on http://127.0.0.1:5000\n",
            "INFO:werkzeug:\u001b[33mPress CTRL+C to quit\u001b[0m\n",
            "INFO:werkzeug: * Restarting with watchdog (inotify)\n"
          ]
        }
      ]
    },
    {
      "cell_type": "code",
      "source": [
        "#11. How do you structure a Flask app using Blueprints?\n",
        "\n",
        "'''\n",
        "\n",
        "your_project/\n",
        "│\n",
        "├── app.py\n",
        "├── auth/\n",
        "│   ├── __init__.py\n",
        "│   └── routes.py\n",
        "└── templates/\n",
        "    └── ...\n",
        "\n",
        "'''\n",
        "from flask import Blueprint\n",
        "\n",
        "auth = Blueprint('auth', __name__)\n",
        "\n",
        "@auth.route('/login')\n",
        "def login():\n",
        "    return \"This is the login page\""
      ],
      "metadata": {
        "id": "CA3J9J_FNUw4"
      },
      "execution_count": 28,
      "outputs": []
    },
    {
      "cell_type": "code",
      "source": [
        "#12. How do you define a custom Jinja filter in Flask?\n",
        "from flask import Flask, render_template_string\n",
        "\n",
        "app = Flask(__name__)\n",
        "\n",
        "# Define the custom filter function\n",
        "@app.template_filter('reverse')\n",
        "def reverse_filter(s):\n",
        "    return s[::-1]\n",
        "\n",
        "@app.route('/')\n",
        "def home():\n",
        "    # Use the filter in a template string for demo\n",
        "    return render_template_string(\"{{ 'Flask' | reverse }}\")\n",
        "\n",
        "if __name__ == '__main__':\n",
        "    app.run(debug=True)"
      ],
      "metadata": {
        "colab": {
          "base_uri": "https://localhost:8080/"
        },
        "id": "gzZOyj-YOGsx",
        "outputId": "359c8692-796f-46bc-8bb1-d28d3dec34f0"
      },
      "execution_count": 30,
      "outputs": [
        {
          "output_type": "stream",
          "name": "stdout",
          "text": [
            " * Serving Flask app '__main__'\n",
            " * Debug mode: on\n"
          ]
        },
        {
          "output_type": "stream",
          "name": "stderr",
          "text": [
            "INFO:werkzeug:\u001b[31m\u001b[1mWARNING: This is a development server. Do not use it in a production deployment. Use a production WSGI server instead.\u001b[0m\n",
            " * Running on http://127.0.0.1:5000\n",
            "INFO:werkzeug:\u001b[33mPress CTRL+C to quit\u001b[0m\n",
            "INFO:werkzeug: * Restarting with watchdog (inotify)\n"
          ]
        }
      ]
    },
    {
      "cell_type": "code",
      "source": [
        "#13. How can you redirect with query parameters in Flask?\n",
        "from flask import Flask, redirect, url_for, request\n",
        "\n",
        "app = Flask(__name__)\n",
        "\n",
        "@app.route('/')\n",
        "def home():\n",
        "    # Redirect to /search with query parameters ?q=flask&page=2\n",
        "    return redirect(url_for('search', q='flask', page=2))\n",
        "\n",
        "@app.route('/search')\n",
        "def search():\n",
        "    q = request.args.get('q')\n",
        "    page = request.args.get('page')\n",
        "    return f\"Search query: {q}, Page: {page}\"\n",
        "\n",
        "if __name__ == '__main__':\n",
        "    app.run(debug=True)"
      ],
      "metadata": {
        "colab": {
          "base_uri": "https://localhost:8080/"
        },
        "id": "ykp3wUtlOZwu",
        "outputId": "48e80df5-ea25-4925-c0e9-c1b7706284e4"
      },
      "execution_count": 31,
      "outputs": [
        {
          "output_type": "stream",
          "name": "stdout",
          "text": [
            " * Serving Flask app '__main__'\n",
            " * Debug mode: on\n"
          ]
        },
        {
          "output_type": "stream",
          "name": "stderr",
          "text": [
            "INFO:werkzeug:\u001b[31m\u001b[1mWARNING: This is a development server. Do not use it in a production deployment. Use a production WSGI server instead.\u001b[0m\n",
            " * Running on http://127.0.0.1:5000\n",
            "INFO:werkzeug:\u001b[33mPress CTRL+C to quit\u001b[0m\n",
            "INFO:werkzeug: * Restarting with watchdog (inotify)\n"
          ]
        }
      ]
    },
    {
      "cell_type": "code",
      "source": [
        "#14. How do you return JSON responses in Flask?\n",
        "from flask import Flask, jsonify\n",
        "\n",
        "app = Flask(__name__)\n",
        "\n",
        "@app.route('/api/data')\n",
        "def data():\n",
        "    my_data = {\n",
        "        \"name\": \"Waqar\",\n",
        "        \"age\": 25,\n",
        "        \"skills\": [\"Python\", \"Flask\", \"Data Science\"]\n",
        "    }\n",
        "    return jsonify(my_data)\n",
        "\n",
        "if __name__ == '__main__':\n",
        "    app.run(debug=True)\n"
      ],
      "metadata": {
        "colab": {
          "base_uri": "https://localhost:8080/"
        },
        "id": "a7hOtMcOPAm0",
        "outputId": "c935238c-b59c-4e3e-a637-af0e1ff397ef"
      },
      "execution_count": 32,
      "outputs": [
        {
          "output_type": "stream",
          "name": "stdout",
          "text": [
            " * Serving Flask app '__main__'\n",
            " * Debug mode: on\n"
          ]
        },
        {
          "output_type": "stream",
          "name": "stderr",
          "text": [
            "INFO:werkzeug:\u001b[31m\u001b[1mWARNING: This is a development server. Do not use it in a production deployment. Use a production WSGI server instead.\u001b[0m\n",
            " * Running on http://127.0.0.1:5000\n",
            "INFO:werkzeug:\u001b[33mPress CTRL+C to quit\u001b[0m\n",
            "INFO:werkzeug: * Restarting with watchdog (inotify)\n"
          ]
        }
      ]
    },
    {
      "cell_type": "code",
      "source": [
        "#15. How do you capture URL parameters in Flask?\n",
        "from flask import Flask\n",
        "\n",
        "app = Flask(__name__)\n",
        "\n",
        "@app.route('/user/')\n",
        "def profile(username):\n",
        "    return f\"User profile: {username}\"\n",
        "\n",
        "if __name__ == '__main__':\n",
        "    app.run(debug=True)"
      ],
      "metadata": {
        "colab": {
          "base_uri": "https://localhost:8080/"
        },
        "id": "seuKtfRBPF38",
        "outputId": "19ab0240-0d2c-4e27-da8e-a93915271ac1"
      },
      "execution_count": 33,
      "outputs": [
        {
          "output_type": "stream",
          "name": "stdout",
          "text": [
            " * Serving Flask app '__main__'\n",
            " * Debug mode: on\n"
          ]
        },
        {
          "output_type": "stream",
          "name": "stderr",
          "text": [
            "INFO:werkzeug:\u001b[31m\u001b[1mWARNING: This is a development server. Do not use it in a production deployment. Use a production WSGI server instead.\u001b[0m\n",
            " * Running on http://127.0.0.1:5000\n",
            "INFO:werkzeug:\u001b[33mPress CTRL+C to quit\u001b[0m\n",
            "INFO:werkzeug: * Restarting with watchdog (inotify)\n"
          ]
        }
      ]
    }
  ]
}